{
 "metadata": {
  "language_info": {
   "codemirror_mode": {
    "name": "ipython",
    "version": 3
   },
   "file_extension": ".py",
   "mimetype": "text/x-python",
   "name": "python",
   "nbconvert_exporter": "python",
   "pygments_lexer": "ipython3",
   "version": "3.8.6"
  },
  "orig_nbformat": 2,
  "kernelspec": {
   "name": "python386jvsc74a57bd03b1827d4b6462cc460901af0bc0d075c933010817877a813d51f78a107cbf6e5",
   "display_name": "Python 3.8.6 64-bit"
  }
 },
 "nbformat": 4,
 "nbformat_minor": 2,
 "cells": [
  {
   "cell_type": "code",
   "execution_count": 1,
   "metadata": {},
   "outputs": [],
   "source": [
    "import numpy as np \n",
    "import cv2 "
   ]
  },
  {
   "source": [
    "- 转化为灰度图像"
   ],
   "cell_type": "markdown",
   "metadata": {}
  },
  {
   "cell_type": "code",
   "execution_count": 2,
   "metadata": {},
   "outputs": [],
   "source": [
    "def toGray(img):\n",
    "    out = img[:, :, 0]*0.0722 + img[:, :, 1]*0.7152 + img[:, :, 2]*0.2126\n",
    "    return out.astype(np.uint8)"
   ]
  },
  {
   "source": [
    "- 二值化处理"
   ],
   "cell_type": "markdown",
   "metadata": {}
  },
  {
   "cell_type": "code",
   "execution_count": 3,
   "metadata": {},
   "outputs": [],
   "source": [
    "def thresholding(img):\n",
    "    img[img<128] = 0\n",
    "    img[img>=128] = 255 "
   ]
  },
  {
   "source": [
    "- 大津二值化算法"
   ],
   "cell_type": "markdown",
   "metadata": {}
  },
  {
   "cell_type": "code",
   "execution_count": 4,
   "metadata": {},
   "outputs": [],
   "source": [
    "def otsuMethod(img):\n",
    "    t = np.arange(1, 255, 1)\n",
    "    sqSb = np.zeros(t.shape)\n",
    "    W, H = img.shape\n",
    "    for ndx, t0 in enumerate(t):\n",
    "        less = img[img<t0]\n",
    "        more = img[img>=t0]\n",
    "        w0 = len(less) / (W * H)\n",
    "        w1 = 1 - w0 \n",
    "        M0 = less.mean() if len(less) > 0 else 0\n",
    "        M1 = more.mean() if len(more) > 0 else 0\n",
    "        sqSb[ndx] = w0 * w1 * ((M0 - M1)**2)\n",
    "    arg = sqSb.argmax()\n",
    "    thresh = t[arg]\n",
    "    print(\"threshold: \", thresh)\n",
    "    img[img<thresh] = 0\n",
    "    img[img>=thresh] = 255"
   ]
  },
  {
   "source": [
    "- HSV变换"
   ],
   "cell_type": "markdown",
   "metadata": {}
  },
  {
   "cell_type": "code",
   "execution_count": 5,
   "metadata": {},
   "outputs": [],
   "source": [
    "def HSVconvert(img):\n",
    "    pass"
   ]
  },
  {
   "source": [
    "- reduce"
   ],
   "cell_type": "markdown",
   "metadata": {}
  },
  {
   "cell_type": "code",
   "execution_count": 6,
   "metadata": {},
   "outputs": [],
   "source": [
    "def reducePic(img):\n",
    "    img[(img>=0)&(img<64)] = 32\n",
    "    img[(img>=64)&(img<128)] = 128\n",
    "    img[(img>=128)&(img<192)] = 192\n",
    "    img[(img>=192)&(img<256)] = 224"
   ]
  },
  {
   "cell_type": "code",
   "execution_count": 7,
   "metadata": {},
   "outputs": [],
   "source": [
    "img = cv2.imread(\"imori.jpg\")\n",
    "cv2.imshow(\"img\", img)\n",
    "\n",
    "reducePic(img)\n",
    "cv2.imshow(\"reduce\", img)\n",
    "\n",
    "cv2.waitKey()\n",
    "cv2.destroyAllWindows()"
   ]
  },
  {
   "cell_type": "code",
   "execution_count": 8,
   "metadata": {},
   "outputs": [
    {
     "output_type": "error",
     "ename": "NameError",
     "evalue": "name 'x' is not defined",
     "traceback": [
      "\u001b[1;31m---------------------------------------------------------------------------\u001b[0m",
      "\u001b[1;31mNameError\u001b[0m                                 Traceback (most recent call last)",
      "\u001b[1;32m<ipython-input-8-6fcf9dfbd479>\u001b[0m in \u001b[0;36m<module>\u001b[1;34m\u001b[0m\n\u001b[1;32m----> 1\u001b[1;33m \u001b[0mx\u001b[0m\u001b[1;33m\u001b[0m\u001b[1;33m\u001b[0m\u001b[0m\n\u001b[0m",
      "\u001b[1;31mNameError\u001b[0m: name 'x' is not defined"
     ]
    }
   ],
   "source": [
    "x"
   ]
  },
  {
   "cell_type": "code",
   "execution_count": 113,
   "metadata": {},
   "outputs": [],
   "source": [
    "x[(x<3)&(x>0)] = 2"
   ]
  },
  {
   "cell_type": "code",
   "execution_count": 114,
   "metadata": {},
   "outputs": [
    {
     "output_type": "execute_result",
     "data": {
      "text/plain": [
       "array([[ 0,  2,  2],\n",
       "       [ 3,  4,  5],\n",
       "       [ 6,  7,  8],\n",
       "       [ 9, 10, 11]])"
      ]
     },
     "metadata": {},
     "execution_count": 114
    }
   ],
   "source": [
    "x"
   ]
  },
  {
   "cell_type": "code",
   "execution_count": null,
   "metadata": {},
   "outputs": [],
   "source": []
  }
 ]
}